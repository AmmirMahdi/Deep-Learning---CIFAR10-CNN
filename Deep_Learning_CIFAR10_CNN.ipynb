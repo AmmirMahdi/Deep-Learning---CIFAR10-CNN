{
  "nbformat": 4,
  "nbformat_minor": 0,
  "metadata": {
    "colab": {
      "name": "Deep Learning - CIFAR10-CNN.ipynb",
      "version": "0.3.2",
      "provenance": []
    },
    "kernelspec": {
      "name": "python3",
      "display_name": "Python 3"
    },
    "accelerator": "GPU"
  },
  "cells": [
    {
      "metadata": {
        "id": "bECcfpAWd_Ec",
        "colab_type": "code",
        "colab": {
          "base_uri": "https://localhost:8080/",
          "height": 34
        },
        "outputId": "f7b82d7e-a848-4d96-fe2b-df3dfb5efc11"
      },
      "cell_type": "code",
      "source": [
        "import numpy as np\n",
        "import keras\n",
        "from keras.datasets import cifar10\n",
        "from keras.models import Sequential\n",
        "from keras.layers import Dense,Flatten,Dropout,Activation,BatchNormalization\n",
        "from keras.layers import Conv2D, MaxPooling2D\n",
        "from keras.preprocessing.image import ImageDataGenerator\n",
        "from keras import regularizers\n"
      ],
      "execution_count": 1,
      "outputs": [
        {
          "output_type": "stream",
          "text": [
            "Using TensorFlow backend.\n"
          ],
          "name": "stderr"
        }
      ]
    },
    {
      "metadata": {
        "id": "Z9xxFwtXhX7A",
        "colab_type": "text"
      },
      "cell_type": "markdown",
      "source": [
        "# Load Data"
      ]
    },
    {
      "metadata": {
        "id": "OHD8Ncqreb_x",
        "colab_type": "code",
        "colab": {}
      },
      "cell_type": "code",
      "source": [
        "(x_train, y_train), (X_test, y_test) = cifar10.load_data()"
      ],
      "execution_count": 0,
      "outputs": []
    },
    {
      "metadata": {
        "id": "j1GbwxSyemuo",
        "colab_type": "code",
        "colab": {}
      },
      "cell_type": "code",
      "source": [
        "import matplotlib.pyplot as plt"
      ],
      "execution_count": 0,
      "outputs": []
    },
    {
      "metadata": {
        "id": "gjxc7xfmew0s",
        "colab_type": "code",
        "colab": {
          "base_uri": "https://localhost:8080/",
          "height": 364
        },
        "outputId": "59407342-98f9-4dcb-cab7-e21b4a297777"
      },
      "cell_type": "code",
      "source": [
        "plt.imshow(x_train[0])"
      ],
      "execution_count": 4,
      "outputs": [
        {
          "output_type": "execute_result",
          "data": {
            "text/plain": [
              "<matplotlib.image.AxesImage at 0x7f33fbb185f8>"
            ]
          },
          "metadata": {
            "tags": []
          },
          "execution_count": 4
        },
        {
          "output_type": "display_data",
          "data": {
            "image/png": "[encoded data removed]",
            "text/plain": [
              "<Figure size 576x396 with 1 Axes>"
            ]
          },
          "metadata": {
            "tags": []
          }
        }
      ]
    },
    {
      "metadata": {
        "id": "LIFyhRBheyxh",
        "colab_type": "code",
        "colab": {}
      },
      "cell_type": "code",
      "source": [
        "#import os\n",
        "data_augmentation = True\n",
        "epochs = 30\n",
        "batch_size = 128\n",
        "n_classes = 10 \n",
        "#os.mkdir('Models')"
      ],
      "execution_count": 0,
      "outputs": []
    },
    {
      "metadata": {
        "id": "pXLFgyHyfaMB",
        "colab_type": "text"
      },
      "cell_type": "markdown",
      "source": [
        "# Preprocessing"
      ]
    },
    {
      "metadata": {
        "id": "_jX9ErLefJPa",
        "colab_type": "code",
        "colab": {}
      },
      "cell_type": "code",
      "source": [
        "y_train = keras.utils.to_categorical(y_train, n_classes)\n",
        "y_test  = keras.utils.to_categorical(y_test, n_classes)"
      ],
      "execution_count": 0,
      "outputs": []
    },
    {
      "metadata": {
        "id": "j235YIsdfd6y",
        "colab_type": "code",
        "colab": {}
      },
      "cell_type": "code",
      "source": [
        "x_train = x_train.astype('float32')\n",
        "X_test  = X_test.astype('float32')\n",
        "\n",
        "x_train /= 255\n",
        "X_test /= 255"
      ],
      "execution_count": 0,
      "outputs": []
    },
    {
      "metadata": {
        "id": "nlCQM6AtflTu",
        "colab_type": "code",
        "colab": {
          "base_uri": "https://localhost:8080/",
          "height": 52
        },
        "outputId": "cad08b8b-3a14-4f69-8cb5-1d35979f7373"
      },
      "cell_type": "code",
      "source": [
        "print(\"X_train shape :{}\".format(x_train.shape))\n",
        "print(\"X_test.shape  :{}\".format(X_test.shape))"
      ],
      "execution_count": 8,
      "outputs": [
        {
          "output_type": "stream",
          "text": [
            "X_train shape :(50000, 32, 32, 3)\n",
            "X_test.shape  :(10000, 32, 32, 3)\n"
          ],
          "name": "stdout"
        }
      ]
    },
    {
      "metadata": {
        "id": "Mpd-TxiugGm2",
        "colab_type": "text"
      },
      "cell_type": "markdown",
      "source": [
        "# Create Model"
      ]
    },
    {
      "metadata": {
        "id": "-pJ8Hx7OgDsn",
        "colab_type": "code",
        "colab": {
          "base_uri": "https://localhost:8080/",
          "height": 143
        },
        "outputId": "0ed61460-30f0-4a7d-d4e9-35bf17654af8"
      },
      "cell_type": "code",
      "source": [
        "model = Sequential()\n",
        "\n",
        "weight_decay = 1e-4\n",
        "\n",
        "model.add(Conv2D(64, (3, 3), padding='same', kernel_regularizer=regularizers.l2(weight_decay),\n",
        "                 input_shape=x_train.shape[1:]))\n",
        "model.add(BatchNormalization())\n",
        "model.add(Activation('relu'))\n",
        "model.add(Conv2D(64, (3, 3)))\n",
        "model.add(Activation('relu'))\n",
        "model.add(BatchNormalization())\n",
        "model.add(MaxPooling2D(pool_size=(2, 2)))\n",
        "model.add(Dropout(0.25))\n",
        "\n",
        "model.add(Conv2D(256, (3, 3), padding='same',kernel_regularizer=regularizers.l2(weight_decay)))\n",
        "model.add(BatchNormalization())\n",
        "model.add(Activation('relu'))\n",
        "model.add(Conv2D(256, (3, 3)))\n",
        "model.add(Activation('relu'))\n",
        "model.add(BatchNormalization())\n",
        "model.add(MaxPooling2D(pool_size=(2, 2)))\n",
        "model.add(Dropout(0.25))\n",
        "\n",
        "\n",
        "model.add(Flatten())\n",
        "model.add(Dense(300))\n",
        "model.add(Activation('relu'))\n",
        "model.add(Dropout(0.5))\n",
        "model.add(Dense(128))\n",
        "model.add(Activation('relu'))\n",
        "model.add(BatchNormalization())\n",
        "model.add(Dropout(0.5))\n",
        "model.add(Dense(n_classes))\n",
        "model.add(Activation('softmax'))"
      ],
      "execution_count": 9,
      "outputs": [
        {
          "output_type": "stream",
          "text": [
            "WARNING:tensorflow:From /usr/local/lib/python3.6/dist-packages/tensorflow/python/framework/op_def_library.py:263: colocate_with (from tensorflow.python.framework.ops) is deprecated and will be removed in a future version.\n",
            "Instructions for updating:\n",
            "Colocations handled automatically by placer.\n",
            "WARNING:tensorflow:From /usr/local/lib/python3.6/dist-packages/keras/backend/tensorflow_backend.py:3445: calling dropout (from tensorflow.python.ops.nn_ops) with keep_prob is deprecated and will be removed in a future version.\n",
            "Instructions for updating:\n",
            "Please use `rate` instead of `keep_prob`. Rate should be set to `rate = 1 - keep_prob`.\n"
          ],
          "name": "stdout"
        }
      ]
    },
    {
      "metadata": {
        "id": "6hVwM_qagDoV",
        "colab_type": "code",
        "colab": {
          "base_uri": "https://localhost:8080/",
          "height": 1065
        },
        "outputId": "28394a8c-15ea-434f-c804-2552d88e1b20"
      },
      "cell_type": "code",
      "source": [
        "model.summary()"
      ],
      "execution_count": 10,
      "outputs": [
        {
          "output_type": "stream",
          "text": [
            "_________________________________________________________________\n",
            "Layer (type)                 Output Shape              Param #   \n",
            "=================================================================\n",
            "conv2d_1 (Conv2D)            (None, 32, 32, 64)        1792      \n",
            "_________________________________________________________________\n",
            "batch_normalization_1 (Batch (None, 32, 32, 64)        256       \n",
            "_________________________________________________________________\n",
            "activation_1 (Activation)    (None, 32, 32, 64)        0         \n",
            "_________________________________________________________________\n",
            "conv2d_2 (Conv2D)            (None, 30, 30, 64)        36928     \n",
            "_________________________________________________________________\n",
            "activation_2 (Activation)    (None, 30, 30, 64)        0         \n",
            "_________________________________________________________________\n",
            "batch_normalization_2 (Batch (None, 30, 30, 64)        256       \n",
            "_________________________________________________________________\n",
            "max_pooling2d_1 (MaxPooling2 (None, 15, 15, 64)        0         \n",
            "_________________________________________________________________\n",
            "dropout_1 (Dropout)          (None, 15, 15, 64)        0         \n",
            "_________________________________________________________________\n",
            "conv2d_3 (Conv2D)            (None, 15, 15, 256)       147712    \n",
            "_________________________________________________________________\n",
            "batch_normalization_3 (Batch (None, 15, 15, 256)       1024      \n",
            "_________________________________________________________________\n",
            "activation_3 (Activation)    (None, 15, 15, 256)       0         \n",
            "_________________________________________________________________\n",
            "conv2d_4 (Conv2D)            (None, 13, 13, 256)       590080    \n",
            "_________________________________________________________________\n",
            "activation_4 (Activation)    (None, 13, 13, 256)       0         \n",
            "_________________________________________________________________\n",
            "batch_normalization_4 (Batch (None, 13, 13, 256)       1024      \n",
            "_________________________________________________________________\n",
            "max_pooling2d_2 (MaxPooling2 (None, 6, 6, 256)         0         \n",
            "_________________________________________________________________\n",
            "dropout_2 (Dropout)          (None, 6, 6, 256)         0         \n",
            "_________________________________________________________________\n",
            "flatten_1 (Flatten)          (None, 9216)              0         \n",
            "_________________________________________________________________\n",
            "dense_1 (Dense)              (None, 300)               2765100   \n",
            "_________________________________________________________________\n",
            "activation_5 (Activation)    (None, 300)               0         \n",
            "_________________________________________________________________\n",
            "dropout_3 (Dropout)          (None, 300)               0         \n",
            "_________________________________________________________________\n",
            "dense_2 (Dense)              (None, 128)               38528     \n",
            "_________________________________________________________________\n",
            "activation_6 (Activation)    (None, 128)               0         \n",
            "_________________________________________________________________\n",
            "batch_normalization_5 (Batch (None, 128)               512       \n",
            "_________________________________________________________________\n",
            "dropout_4 (Dropout)          (None, 128)               0         \n",
            "_________________________________________________________________\n",
            "dense_3 (Dense)              (None, 10)                1290      \n",
            "_________________________________________________________________\n",
            "activation_7 (Activation)    (None, 10)                0         \n",
            "=================================================================\n",
            "Total params: 3,584,502\n",
            "Trainable params: 3,582,966\n",
            "Non-trainable params: 1,536\n",
            "_________________________________________________________________\n"
          ],
          "name": "stdout"
        }
      ]
    },
    {
      "metadata": {
        "id": "ViQy69AOhf-X",
        "colab_type": "text"
      },
      "cell_type": "markdown",
      "source": [
        "# Compile Model"
      ]
    },
    {
      "metadata": {
        "id": "g9djHQQ8gDkr",
        "colab_type": "code",
        "colab": {}
      },
      "cell_type": "code",
      "source": [
        "model.compile(loss='categorical_crossentropy', optimizer='adam' ,metrics=['accuracy'])"
      ],
      "execution_count": 0,
      "outputs": []
    },
    {
      "metadata": {
        "id": "x9SuaLBNhuCY",
        "colab_type": "text"
      },
      "cell_type": "markdown",
      "source": [
        "# Data augmentation"
      ]
    },
    {
      "metadata": {
        "id": "VfROkntqhpZV",
        "colab_type": "code",
        "colab": {
          "base_uri": "https://localhost:8080/",
          "height": 3590
        },
        "outputId": "13fea0ec-02ec-49e5-852a-07c1251d03cb"
      },
      "cell_type": "code",
      "source": [
        "if not data_augmentation:\n",
        "  print(\"Not data using augmentation\")\n",
        "  model.fit(x_train, y_train, batch_size=batch_size, epochs=epochs, validation_data=(X_test, y_test), shuffle=True)\n",
        "  \n",
        "  \n",
        "else:\n",
        "    print('Using real-time data augmentation.')\n",
        "    # This will do preprocessing and realtime data augmentation:\n",
        "    datagen = ImageDataGenerator(\n",
        "        featurewise_center=False,  # set input mean to 0 over the dataset\n",
        "        samplewise_center=False,  # set each sample mean to 0\n",
        "        featurewise_std_normalization=False,  # divide inputs by std of the dataset\n",
        "        samplewise_std_normalization=False,  # divide each input by its std\n",
        "        zca_whitening=False,  # apply ZCA whitening\n",
        "        zca_epsilon=1e-06,  # epsilon for ZCA whitening\n",
        "        # randomly shift images horizontally (fraction of total width)\n",
        "        width_shift_range=0.1,\n",
        "        rotation_range=15,\n",
        "        # randomly shift images vertically (fraction of total height)\n",
        "        height_shift_range=0.1,\n",
        "        shear_range=0.5,  # set range for random shear\n",
        "        channel_shift_range=0.,  # set range for random channel shifts\n",
        "        # set mode for filling points outside the input boundaries\n",
        "        fill_mode='nearest',\n",
        "        cval=0.,  # value used for fill_mode = \"constant\"\n",
        "        horizontal_flip=True,  # randomly flip images\n",
        "        vertical_flip=False,  # randomly flip images\n",
        "        # set rescaling factor (applied before any other transformation)\n",
        "        # set function that will be applied on each input\n",
        "        preprocessing_function=None,\n",
        "        # image data format, either \"channels_first\" or \"channels_last\"\n",
        "        data_format=None,\n",
        "        # fraction of images reserved for validation (strictly between 0 and 1)\n",
        "        validation_split=0.0)\n",
        "\n",
        "    # Compute quantities required for feature-wise normalization\n",
        "    # (std, mean, and principal components if ZCA whitening is applied).\n",
        "    datagen.fit(x_train)\n",
        "\n",
        "    # Fit the model on the batches generated by datagen.flow().\n",
        "    model.fit_generator(datagen.flow(x_train, y_train,\n",
        "                                     batch_size=batch_size),\n",
        "                        steps_per_epoch=100,\n",
        "                        epochs=100,\n",
        "                        validation_data=(X_test, y_test),\n",
        "                        workers=4)"
      ],
      "execution_count": 16,
      "outputs": [
        {
          "output_type": "stream",
          "text": [
            "Using real-time data augmentation.\n",
            "Epoch 1/100\n",
            "100/100 [==============================] - 12s 123ms/step - loss: 0.7423 - acc: 0.7544 - val_loss: 0.6585 - val_acc: 0.7894\n",
            "Epoch 2/100\n",
            "100/100 [==============================] - 11s 110ms/step - loss: 0.7499 - acc: 0.7544 - val_loss: 0.8442 - val_acc: 0.7307\n",
            "Epoch 3/100\n",
            "100/100 [==============================] - 11s 110ms/step - loss: 0.7619 - acc: 0.7472 - val_loss: 1.0440 - val_acc: 0.6929\n",
            "Epoch 4/100\n",
            "100/100 [==============================] - 12s 116ms/step - loss: 0.7432 - acc: 0.7573 - val_loss: 0.6905 - val_acc: 0.7752\n",
            "Epoch 5/100\n",
            "100/100 [==============================] - 11s 111ms/step - loss: 0.7210 - acc: 0.7639 - val_loss: 0.7317 - val_acc: 0.7611\n",
            "Epoch 6/100\n",
            "100/100 [==============================] - 11s 113ms/step - loss: 0.7269 - acc: 0.7634 - val_loss: 0.8196 - val_acc: 0.7415\n",
            "Epoch 7/100\n",
            "100/100 [==============================] - 11s 111ms/step - loss: 0.7200 - acc: 0.7666 - val_loss: 0.6574 - val_acc: 0.7873\n",
            "Epoch 8/100\n",
            "100/100 [==============================] - 11s 110ms/step - loss: 0.7105 - acc: 0.7687 - val_loss: 0.7198 - val_acc: 0.7659\n",
            "Epoch 9/100\n",
            "100/100 [==============================] - 11s 112ms/step - loss: 0.6931 - acc: 0.7767 - val_loss: 0.7181 - val_acc: 0.7679\n",
            "Epoch 10/100\n",
            "100/100 [==============================] - 11s 113ms/step - loss: 0.7033 - acc: 0.7725 - val_loss: 0.7730 - val_acc: 0.7535\n",
            "Epoch 11/100\n",
            "100/100 [==============================] - 11s 110ms/step - loss: 0.6983 - acc: 0.7768 - val_loss: 0.7125 - val_acc: 0.7753\n",
            "Epoch 12/100\n",
            "100/100 [==============================] - 11s 110ms/step - loss: 0.6926 - acc: 0.7780 - val_loss: 0.7340 - val_acc: 0.7661\n",
            "Epoch 13/100\n",
            "100/100 [==============================] - 11s 110ms/step - loss: 0.6875 - acc: 0.7816 - val_loss: 0.6842 - val_acc: 0.7861\n",
            "Epoch 14/100\n",
            "100/100 [==============================] - 11s 110ms/step - loss: 0.6856 - acc: 0.7733 - val_loss: 0.6794 - val_acc: 0.7835\n",
            "Epoch 15/100\n",
            "100/100 [==============================] - 11s 110ms/step - loss: 0.6759 - acc: 0.7812 - val_loss: 0.5539 - val_acc: 0.8225\n",
            "Epoch 16/100\n",
            "100/100 [==============================] - 11s 112ms/step - loss: 0.6687 - acc: 0.7891 - val_loss: 0.7237 - val_acc: 0.7755\n",
            "Epoch 17/100\n",
            "100/100 [==============================] - 11s 113ms/step - loss: 0.6646 - acc: 0.7853 - val_loss: 0.7011 - val_acc: 0.7862\n",
            "Epoch 18/100\n",
            "100/100 [==============================] - 11s 113ms/step - loss: 0.6683 - acc: 0.7861 - val_loss: 0.6223 - val_acc: 0.8068\n",
            "Epoch 19/100\n",
            "100/100 [==============================] - 11s 113ms/step - loss: 0.6544 - acc: 0.7930 - val_loss: 0.6574 - val_acc: 0.7900\n",
            "Epoch 20/100\n",
            "100/100 [==============================] - 11s 112ms/step - loss: 0.6517 - acc: 0.7934 - val_loss: 0.5946 - val_acc: 0.8096\n",
            "Epoch 21/100\n",
            "100/100 [==============================] - 11s 110ms/step - loss: 0.6579 - acc: 0.7904 - val_loss: 0.6953 - val_acc: 0.7822\n",
            "Epoch 22/100\n",
            "100/100 [==============================] - 11s 110ms/step - loss: 0.6413 - acc: 0.7966 - val_loss: 0.6886 - val_acc: 0.7811\n",
            "Epoch 23/100\n",
            "100/100 [==============================] - 11s 115ms/step - loss: 0.6353 - acc: 0.7963 - val_loss: 0.6471 - val_acc: 0.7962\n",
            "Epoch 24/100\n",
            "100/100 [==============================] - 11s 110ms/step - loss: 0.6387 - acc: 0.7938 - val_loss: 0.6036 - val_acc: 0.8091\n",
            "Epoch 25/100\n",
            "100/100 [==============================] - 11s 112ms/step - loss: 0.6330 - acc: 0.7974 - val_loss: 0.6910 - val_acc: 0.7827\n",
            "Epoch 26/100\n",
            "100/100 [==============================] - 11s 113ms/step - loss: 0.6453 - acc: 0.7966 - val_loss: 0.8375 - val_acc: 0.7390\n",
            "Epoch 27/100\n",
            "100/100 [==============================] - 11s 112ms/step - loss: 0.6380 - acc: 0.7972 - val_loss: 0.7063 - val_acc: 0.7726\n",
            "Epoch 28/100\n",
            "100/100 [==============================] - 11s 113ms/step - loss: 0.6399 - acc: 0.7979 - val_loss: 0.5653 - val_acc: 0.8213\n",
            "Epoch 29/100\n",
            "100/100 [==============================] - 11s 112ms/step - loss: 0.6125 - acc: 0.8070 - val_loss: 0.6592 - val_acc: 0.7967\n",
            "Epoch 30/100\n",
            "100/100 [==============================] - 11s 113ms/step - loss: 0.6055 - acc: 0.8106 - val_loss: 0.5360 - val_acc: 0.8317\n",
            "Epoch 31/100\n",
            "100/100 [==============================] - 11s 113ms/step - loss: 0.6172 - acc: 0.8084 - val_loss: 0.7242 - val_acc: 0.7858\n",
            "Epoch 32/100\n",
            "100/100 [==============================] - 12s 115ms/step - loss: 0.5974 - acc: 0.8135 - val_loss: 0.5978 - val_acc: 0.8090\n",
            "Epoch 33/100\n",
            "100/100 [==============================] - 11s 110ms/step - loss: 0.6142 - acc: 0.8083 - val_loss: 0.5822 - val_acc: 0.8181\n",
            "Epoch 34/100\n",
            "100/100 [==============================] - 11s 111ms/step - loss: 0.6165 - acc: 0.8073 - val_loss: 0.5917 - val_acc: 0.8136\n",
            "Epoch 35/100\n",
            "100/100 [==============================] - 11s 110ms/step - loss: 0.6152 - acc: 0.8085 - val_loss: 0.6488 - val_acc: 0.7999\n",
            "Epoch 36/100\n",
            "100/100 [==============================] - 11s 112ms/step - loss: 0.6078 - acc: 0.8108 - val_loss: 0.5952 - val_acc: 0.8150\n",
            "Epoch 37/100\n",
            "100/100 [==============================] - 11s 113ms/step - loss: 0.5938 - acc: 0.8144 - val_loss: 0.5530 - val_acc: 0.8289\n",
            "Epoch 38/100\n",
            "100/100 [==============================] - 11s 113ms/step - loss: 0.6029 - acc: 0.8115 - val_loss: 0.5370 - val_acc: 0.8310\n",
            "Epoch 39/100\n",
            "100/100 [==============================] - 11s 113ms/step - loss: 0.6022 - acc: 0.8127 - val_loss: 0.5722 - val_acc: 0.8229\n",
            "Epoch 40/100\n",
            "100/100 [==============================] - 11s 111ms/step - loss: 0.5820 - acc: 0.8193 - val_loss: 0.6014 - val_acc: 0.8164\n",
            "Epoch 41/100\n",
            "100/100 [==============================] - 11s 111ms/step - loss: 0.5830 - acc: 0.8170 - val_loss: 0.5403 - val_acc: 0.8366\n",
            "Epoch 42/100\n",
            "100/100 [==============================] - 11s 114ms/step - loss: 0.6055 - acc: 0.8131 - val_loss: 0.5175 - val_acc: 0.8385\n",
            "Epoch 43/100\n",
            "100/100 [==============================] - 11s 112ms/step - loss: 0.5937 - acc: 0.8085 - val_loss: 0.5565 - val_acc: 0.8290\n",
            "Epoch 44/100\n",
            "100/100 [==============================] - 11s 113ms/step - loss: 0.5794 - acc: 0.8215 - val_loss: 0.6869 - val_acc: 0.7969\n",
            "Epoch 45/100\n",
            "100/100 [==============================] - 11s 113ms/step - loss: 0.5705 - acc: 0.8230 - val_loss: 0.8612 - val_acc: 0.7542\n",
            "Epoch 46/100\n",
            "100/100 [==============================] - 11s 114ms/step - loss: 0.5889 - acc: 0.8147 - val_loss: 0.5262 - val_acc: 0.8408\n",
            "Epoch 47/100\n",
            "100/100 [==============================] - 11s 111ms/step - loss: 0.5875 - acc: 0.8168 - val_loss: 0.5779 - val_acc: 0.8205\n",
            "Epoch 48/100\n",
            "100/100 [==============================] - 11s 111ms/step - loss: 0.5618 - acc: 0.8262 - val_loss: 0.6482 - val_acc: 0.8094\n",
            "Epoch 49/100\n",
            "100/100 [==============================] - 11s 110ms/step - loss: 0.5651 - acc: 0.8242 - val_loss: 0.6112 - val_acc: 0.8138\n",
            "Epoch 50/100\n",
            "100/100 [==============================] - 11s 115ms/step - loss: 0.5683 - acc: 0.8262 - val_loss: 0.5837 - val_acc: 0.8254\n",
            "Epoch 51/100\n",
            "100/100 [==============================] - 11s 112ms/step - loss: 0.5875 - acc: 0.8153 - val_loss: 0.6731 - val_acc: 0.8087\n",
            "Epoch 52/100\n",
            "100/100 [==============================] - 11s 113ms/step - loss: 0.5619 - acc: 0.8263 - val_loss: 0.5023 - val_acc: 0.8447\n",
            "Epoch 53/100\n",
            "100/100 [==============================] - 11s 113ms/step - loss: 0.5544 - acc: 0.8280 - val_loss: 0.7892 - val_acc: 0.7670\n",
            "Epoch 54/100\n",
            "100/100 [==============================] - 11s 112ms/step - loss: 0.5686 - acc: 0.8231 - val_loss: 0.5005 - val_acc: 0.8474\n",
            "Epoch 55/100\n",
            "100/100 [==============================] - 11s 113ms/step - loss: 0.5606 - acc: 0.8269 - val_loss: 0.5860 - val_acc: 0.8226\n",
            "Epoch 56/100\n",
            "100/100 [==============================] - 11s 111ms/step - loss: 0.5463 - acc: 0.8287 - val_loss: 0.5206 - val_acc: 0.8431\n",
            "Epoch 57/100\n",
            "100/100 [==============================] - 11s 112ms/step - loss: 0.5577 - acc: 0.8287 - val_loss: 0.5054 - val_acc: 0.8484\n",
            "Epoch 58/100\n",
            "100/100 [==============================] - 11s 111ms/step - loss: 0.5593 - acc: 0.8266 - val_loss: 0.4923 - val_acc: 0.8503\n",
            "Epoch 59/100\n",
            "100/100 [==============================] - 11s 113ms/step - loss: 0.5489 - acc: 0.8304 - val_loss: 0.5956 - val_acc: 0.8224\n",
            "Epoch 60/100\n",
            "100/100 [==============================] - 11s 115ms/step - loss: 0.5403 - acc: 0.8355 - val_loss: 0.5675 - val_acc: 0.8292\n",
            "Epoch 61/100\n",
            "100/100 [==============================] - 11s 111ms/step - loss: 0.5659 - acc: 0.8252 - val_loss: 0.7146 - val_acc: 0.7932\n",
            "Epoch 62/100\n",
            "100/100 [==============================] - 11s 113ms/step - loss: 0.5414 - acc: 0.8334 - val_loss: 0.4865 - val_acc: 0.8542\n",
            "Epoch 63/100\n",
            "100/100 [==============================] - 11s 110ms/step - loss: 0.5363 - acc: 0.8343 - val_loss: 0.5844 - val_acc: 0.8246\n",
            "Epoch 64/100\n",
            "100/100 [==============================] - 11s 111ms/step - loss: 0.5377 - acc: 0.8335 - val_loss: 0.6623 - val_acc: 0.8092\n",
            "Epoch 65/100\n",
            "100/100 [==============================] - 11s 110ms/step - loss: 0.5378 - acc: 0.8402 - val_loss: 0.5018 - val_acc: 0.8451\n",
            "Epoch 66/100\n",
            "100/100 [==============================] - 11s 111ms/step - loss: 0.5493 - acc: 0.8309 - val_loss: 0.6053 - val_acc: 0.8204\n",
            "Epoch 67/100\n",
            "100/100 [==============================] - 11s 112ms/step - loss: 0.5219 - acc: 0.8393 - val_loss: 0.5451 - val_acc: 0.8371\n",
            "Epoch 68/100\n",
            "100/100 [==============================] - 11s 113ms/step - loss: 0.5340 - acc: 0.8377 - val_loss: 0.5857 - val_acc: 0.8222\n",
            "Epoch 69/100\n",
            "100/100 [==============================] - 11s 114ms/step - loss: 0.5265 - acc: 0.8394 - val_loss: 0.5678 - val_acc: 0.8287\n",
            "Epoch 70/100\n",
            "100/100 [==============================] - 11s 113ms/step - loss: 0.5480 - acc: 0.8325 - val_loss: 0.6206 - val_acc: 0.8164\n",
            "Epoch 71/100\n",
            "100/100 [==============================] - 11s 113ms/step - loss: 0.5287 - acc: 0.8369 - val_loss: 0.5862 - val_acc: 0.8249\n",
            "Epoch 72/100\n",
            "100/100 [==============================] - 11s 113ms/step - loss: 0.5196 - acc: 0.8361 - val_loss: 0.5440 - val_acc: 0.8368\n",
            "Epoch 73/100\n",
            "100/100 [==============================] - 11s 111ms/step - loss: 0.5239 - acc: 0.8394 - val_loss: 0.5681 - val_acc: 0.8295\n",
            "Epoch 74/100\n",
            "100/100 [==============================] - 11s 110ms/step - loss: 0.5266 - acc: 0.8402 - val_loss: 0.5267 - val_acc: 0.8432\n",
            "Epoch 75/100\n",
            "100/100 [==============================] - 11s 112ms/step - loss: 0.5152 - acc: 0.8427 - val_loss: 0.5232 - val_acc: 0.8458\n",
            "Epoch 76/100\n",
            "100/100 [==============================] - 11s 112ms/step - loss: 0.5133 - acc: 0.8433 - val_loss: 0.6259 - val_acc: 0.8203\n",
            "Epoch 77/100\n",
            "100/100 [==============================] - 11s 113ms/step - loss: 0.5094 - acc: 0.8452 - val_loss: 0.6146 - val_acc: 0.8247\n",
            "Epoch 78/100\n",
            "100/100 [==============================] - 12s 115ms/step - loss: 0.5431 - acc: 0.8361 - val_loss: 0.5705 - val_acc: 0.8331\n",
            "Epoch 79/100\n",
            "100/100 [==============================] - 11s 111ms/step - loss: 0.5079 - acc: 0.8469 - val_loss: 0.5462 - val_acc: 0.8365\n",
            "Epoch 80/100\n",
            "100/100 [==============================] - 11s 112ms/step - loss: 0.5152 - acc: 0.8417 - val_loss: 0.4885 - val_acc: 0.8547\n",
            "Epoch 81/100\n",
            "100/100 [==============================] - 11s 113ms/step - loss: 0.5366 - acc: 0.8362 - val_loss: 0.5502 - val_acc: 0.8370\n",
            "Epoch 82/100\n",
            "100/100 [==============================] - 11s 110ms/step - loss: 0.5083 - acc: 0.8461 - val_loss: 0.6536 - val_acc: 0.8103\n",
            "Epoch 83/100\n",
            "100/100 [==============================] - 11s 112ms/step - loss: 0.5164 - acc: 0.8425 - val_loss: 0.4876 - val_acc: 0.8580\n",
            "Epoch 84/100\n",
            "100/100 [==============================] - 11s 113ms/step - loss: 0.5163 - acc: 0.8449 - val_loss: 0.5675 - val_acc: 0.8302\n",
            "Epoch 85/100\n",
            "100/100 [==============================] - 11s 113ms/step - loss: 0.4988 - acc: 0.8472 - val_loss: 0.5451 - val_acc: 0.8395\n",
            "Epoch 86/100\n",
            "100/100 [==============================] - 11s 111ms/step - loss: 0.5370 - acc: 0.8363 - val_loss: 0.5449 - val_acc: 0.8348\n",
            "Epoch 87/100\n",
            "100/100 [==============================] - 12s 118ms/step - loss: 0.5053 - acc: 0.8487 - val_loss: 0.4844 - val_acc: 0.8572\n",
            "Epoch 88/100\n",
            "100/100 [==============================] - 11s 111ms/step - loss: 0.4915 - acc: 0.8530 - val_loss: 0.4678 - val_acc: 0.8680\n",
            "Epoch 89/100\n",
            "100/100 [==============================] - 11s 113ms/step - loss: 0.4984 - acc: 0.8454 - val_loss: 0.5007 - val_acc: 0.8471\n",
            "Epoch 90/100\n",
            "100/100 [==============================] - 11s 113ms/step - loss: 0.5077 - acc: 0.8472 - val_loss: 0.5495 - val_acc: 0.8391\n",
            "Epoch 91/100\n",
            "100/100 [==============================] - 11s 113ms/step - loss: 0.5032 - acc: 0.8491 - val_loss: 0.6020 - val_acc: 0.8210\n",
            "Epoch 92/100\n",
            "100/100 [==============================] - 11s 112ms/step - loss: 0.5051 - acc: 0.8444 - val_loss: 0.5103 - val_acc: 0.8468\n",
            "Epoch 93/100\n",
            "100/100 [==============================] - 11s 110ms/step - loss: 0.5023 - acc: 0.8471 - val_loss: 0.5244 - val_acc: 0.8430\n",
            "Epoch 94/100\n",
            "100/100 [==============================] - 11s 111ms/step - loss: 0.5051 - acc: 0.8488 - val_loss: 0.4802 - val_acc: 0.8567\n",
            "Epoch 95/100\n",
            "100/100 [==============================] - 11s 113ms/step - loss: 0.4923 - acc: 0.8560 - val_loss: 0.5257 - val_acc: 0.8464\n",
            "Epoch 96/100\n",
            "100/100 [==============================] - 11s 111ms/step - loss: 0.4930 - acc: 0.8517 - val_loss: 0.7042 - val_acc: 0.7946\n",
            "Epoch 97/100\n",
            "100/100 [==============================] - 11s 114ms/step - loss: 0.5092 - acc: 0.8462 - val_loss: 0.5227 - val_acc: 0.8462\n",
            "Epoch 98/100\n",
            "100/100 [==============================] - 11s 110ms/step - loss: 0.4951 - acc: 0.8516 - val_loss: 0.4951 - val_acc: 0.8529\n",
            "Epoch 99/100\n",
            "100/100 [==============================] - 11s 110ms/step - loss: 0.5025 - acc: 0.8507 - val_loss: 0.5097 - val_acc: 0.8511\n",
            "Epoch 100/100\n",
            "100/100 [==============================] - 11s 113ms/step - loss: 0.4970 - acc: 0.8527 - val_loss: 0.5132 - val_acc: 0.8488\n"
          ],
          "name": "stdout"
        }
      ]
    },
    {
      "metadata": {
        "id": "SR6Xpo-Ekcy-",
        "colab_type": "code",
        "colab": {}
      },
      "cell_type": "code",
      "source": [
        "acc = model.history.history['acc']\n",
        "val_acc = model.history.history['val_acc']\n",
        "\n",
        "loss = model.history.history['loss']\n",
        "val_loss = model.history.history['val_loss']"
      ],
      "execution_count": 0,
      "outputs": []
    },
    {
      "metadata": {
        "id": "SLk0VvcAl3_J",
        "colab_type": "code",
        "colab": {
          "base_uri": "https://localhost:8080/",
          "height": 706
        },
        "outputId": "7eee7d81-7265-4758-c193-300efc805cd8"
      },
      "cell_type": "code",
      "source": [
        "import matplotlib.pyplot as plt\n",
        "\n",
        "epochs =range(1, len(acc) + 1)\n",
        "\n",
        "plt.plot(epochs, acc,'bo' ,label='Training acc')\n",
        "plt.plot(epochs, val_acc,'b', label='validation acc')\n",
        "plt.title('Training and Validation accuracy')\n",
        "plt.figure()\n",
        "\n",
        "plt.plot(epochs, loss,'bo', label='Training loss')\n",
        "plt.plot(epochs, val_loss,'b', label='validation loss')\n",
        "plt.title('Training and Validation loss')\n",
        "plt.legend()\n",
        "plt.show()"
      ],
      "execution_count": 18,
      "outputs": [
        {
          "output_type": "display_data",
          "data": {
            "image/png": "[encoded data removed]",
            "text/plain": [
              "<Figure size 576x396 with 1 Axes>"
            ]
          },
          "metadata": {
            "tags": []
          }
        },
        {
          "output_type": "display_data",
          "data": {
            "image/png": "[encoded data removed]",
            "text/plain": [
              "<Figure size 576x396 with 1 Axes>"
            ]
          },
          "metadata": {
            "tags": []
          }
        }
      ]
    },
    {
      "metadata": {
        "id": "ubR3gB4CsY3t",
        "colab_type": "code",
        "colab": {}
      },
      "cell_type": "code",
      "source": [
        ""
      ],
      "execution_count": 0,
      "outputs": []
    }
  ]
}